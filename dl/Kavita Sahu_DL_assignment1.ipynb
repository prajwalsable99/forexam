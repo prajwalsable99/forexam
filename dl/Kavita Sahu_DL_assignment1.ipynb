{
 "cells": [
  {
   "cell_type": "code",
   "execution_count": 2,
   "metadata": {
    "_cell_guid": "b1076dfc-b9ad-4769-8c92-a6c4dae69d19",
    "_uuid": "8f2839f25d086af736a60e9eeb907d3b93b6e0e5",
    "execution": {
     "iopub.execute_input": "2020-10-07T20:55:54.996776Z",
     "iopub.status.busy": "2020-10-07T20:55:54.995700Z",
     "iopub.status.idle": "2020-10-07T20:55:54.999523Z",
     "shell.execute_reply": "2020-10-07T20:55:54.998860Z"
    },
    "id": "lAq8Ke8JkzVr",
    "papermill": {
     "duration": 0.043524,
     "end_time": "2020-10-07T20:55:54.999653",
     "exception": false,
     "start_time": "2020-10-07T20:55:54.956129",
     "status": "completed"
    },
    "tags": []
   },
   "outputs": [],
   "source": [
    "# Importing the pandas for data processing and numpy for numerical computing\n",
    "import numpy as np\n",
    "import pandas as pd"
   ]
  },
  {
   "cell_type": "code",
   "execution_count": 3,
   "metadata": {
    "execution": {
     "iopub.execute_input": "2020-10-07T20:55:55.075743Z",
     "iopub.status.busy": "2020-10-07T20:55:55.074948Z",
     "iopub.status.idle": "2020-10-07T20:55:56.076895Z",
     "shell.execute_reply": "2020-10-07T20:55:56.076061Z"
    },
    "id": "RKv3oTIVkzVs",
    "papermill": {
     "duration": 1.041634,
     "end_time": "2020-10-07T20:55:56.077031",
     "exception": false,
     "start_time": "2020-10-07T20:55:55.035397",
     "status": "completed"
    },
    "tags": []
   },
   "outputs": [],
   "source": [
    "# Importing the Boston Housing dataset from the sklearn\n",
    "from sklearn.datasets import load_boston\n",
    "boston = load_boston()"
   ]
  },
  {
   "cell_type": "code",
   "execution_count": 4,
   "metadata": {
    "execution": {
     "iopub.execute_input": "2020-10-07T20:55:56.153905Z",
     "iopub.status.busy": "2020-10-07T20:55:56.153131Z",
     "iopub.status.idle": "2020-10-07T20:55:56.156586Z",
     "shell.execute_reply": "2020-10-07T20:55:56.155999Z"
    },
    "id": "zPBdxPPWkzVs",
    "papermill": {
     "duration": 0.045059,
     "end_time": "2020-10-07T20:55:56.156714",
     "exception": false,
     "start_time": "2020-10-07T20:55:56.111655",
     "status": "completed"
    },
    "tags": []
   },
   "outputs": [],
   "source": [
    "# Converting the data into pandas dataframe\n",
    "data = pd.DataFrame(boston.data)"
   ]
  },
  {
   "cell_type": "code",
   "execution_count": 5,
   "metadata": {
    "colab": {
     "base_uri": "https://localhost:8080/",
     "height": 206
    },
    "execution": {
     "iopub.execute_input": "2020-10-07T20:55:56.320312Z",
     "iopub.status.busy": "2020-10-07T20:55:56.319522Z",
     "iopub.status.idle": "2020-10-07T20:55:56.335439Z",
     "shell.execute_reply": "2020-10-07T20:55:56.336038Z"
    },
    "id": "b5DaXqELkzVs",
    "outputId": "fda442e6-931a-464d-90ef-5c034ad2d97a",
    "papermill": {
     "duration": 0.071719,
     "end_time": "2020-10-07T20:55:56.336192",
     "exception": false,
     "start_time": "2020-10-07T20:55:56.264473",
     "status": "completed"
    },
    "tags": []
   },
   "outputs": [
    {
     "data": {
      "text/html": [
       "<div>\n",
       "<style scoped>\n",
       "    .dataframe tbody tr th:only-of-type {\n",
       "        vertical-align: middle;\n",
       "    }\n",
       "\n",
       "    .dataframe tbody tr th {\n",
       "        vertical-align: top;\n",
       "    }\n",
       "\n",
       "    .dataframe thead th {\n",
       "        text-align: right;\n",
       "    }\n",
       "</style>\n",
       "<table border=\"1\" class=\"dataframe\">\n",
       "  <thead>\n",
       "    <tr style=\"text-align: right;\">\n",
       "      <th></th>\n",
       "      <th>0</th>\n",
       "      <th>1</th>\n",
       "      <th>2</th>\n",
       "      <th>3</th>\n",
       "      <th>4</th>\n",
       "      <th>5</th>\n",
       "      <th>6</th>\n",
       "      <th>7</th>\n",
       "      <th>8</th>\n",
       "      <th>9</th>\n",
       "      <th>10</th>\n",
       "      <th>11</th>\n",
       "      <th>12</th>\n",
       "    </tr>\n",
       "  </thead>\n",
       "  <tbody>\n",
       "    <tr>\n",
       "      <th>0</th>\n",
       "      <td>0.00632</td>\n",
       "      <td>18.0</td>\n",
       "      <td>2.31</td>\n",
       "      <td>0.0</td>\n",
       "      <td>0.538</td>\n",
       "      <td>6.575</td>\n",
       "      <td>65.2</td>\n",
       "      <td>4.0900</td>\n",
       "      <td>1.0</td>\n",
       "      <td>296.0</td>\n",
       "      <td>15.3</td>\n",
       "      <td>396.90</td>\n",
       "      <td>4.98</td>\n",
       "    </tr>\n",
       "    <tr>\n",
       "      <th>1</th>\n",
       "      <td>0.02731</td>\n",
       "      <td>0.0</td>\n",
       "      <td>7.07</td>\n",
       "      <td>0.0</td>\n",
       "      <td>0.469</td>\n",
       "      <td>6.421</td>\n",
       "      <td>78.9</td>\n",
       "      <td>4.9671</td>\n",
       "      <td>2.0</td>\n",
       "      <td>242.0</td>\n",
       "      <td>17.8</td>\n",
       "      <td>396.90</td>\n",
       "      <td>9.14</td>\n",
       "    </tr>\n",
       "    <tr>\n",
       "      <th>2</th>\n",
       "      <td>0.02729</td>\n",
       "      <td>0.0</td>\n",
       "      <td>7.07</td>\n",
       "      <td>0.0</td>\n",
       "      <td>0.469</td>\n",
       "      <td>7.185</td>\n",
       "      <td>61.1</td>\n",
       "      <td>4.9671</td>\n",
       "      <td>2.0</td>\n",
       "      <td>242.0</td>\n",
       "      <td>17.8</td>\n",
       "      <td>392.83</td>\n",
       "      <td>4.03</td>\n",
       "    </tr>\n",
       "    <tr>\n",
       "      <th>3</th>\n",
       "      <td>0.03237</td>\n",
       "      <td>0.0</td>\n",
       "      <td>2.18</td>\n",
       "      <td>0.0</td>\n",
       "      <td>0.458</td>\n",
       "      <td>6.998</td>\n",
       "      <td>45.8</td>\n",
       "      <td>6.0622</td>\n",
       "      <td>3.0</td>\n",
       "      <td>222.0</td>\n",
       "      <td>18.7</td>\n",
       "      <td>394.63</td>\n",
       "      <td>2.94</td>\n",
       "    </tr>\n",
       "    <tr>\n",
       "      <th>4</th>\n",
       "      <td>0.06905</td>\n",
       "      <td>0.0</td>\n",
       "      <td>2.18</td>\n",
       "      <td>0.0</td>\n",
       "      <td>0.458</td>\n",
       "      <td>7.147</td>\n",
       "      <td>54.2</td>\n",
       "      <td>6.0622</td>\n",
       "      <td>3.0</td>\n",
       "      <td>222.0</td>\n",
       "      <td>18.7</td>\n",
       "      <td>396.90</td>\n",
       "      <td>5.33</td>\n",
       "    </tr>\n",
       "  </tbody>\n",
       "</table>\n",
       "</div>"
      ],
      "text/plain": [
       "        0     1     2    3      4      5     6       7    8      9     10  \\\n",
       "0  0.00632  18.0  2.31  0.0  0.538  6.575  65.2  4.0900  1.0  296.0  15.3   \n",
       "1  0.02731   0.0  7.07  0.0  0.469  6.421  78.9  4.9671  2.0  242.0  17.8   \n",
       "2  0.02729   0.0  7.07  0.0  0.469  7.185  61.1  4.9671  2.0  242.0  17.8   \n",
       "3  0.03237   0.0  2.18  0.0  0.458  6.998  45.8  6.0622  3.0  222.0  18.7   \n",
       "4  0.06905   0.0  2.18  0.0  0.458  7.147  54.2  6.0622  3.0  222.0  18.7   \n",
       "\n",
       "       11    12  \n",
       "0  396.90  4.98  \n",
       "1  396.90  9.14  \n",
       "2  392.83  4.03  \n",
       "3  394.63  2.94  \n",
       "4  396.90  5.33  "
      ]
     },
     "execution_count": 5,
     "metadata": {},
     "output_type": "execute_result"
    }
   ],
   "source": [
    "data.head()"
   ]
  },
  {
   "cell_type": "code",
   "execution_count": 6,
   "metadata": {
    "execution": {
     "iopub.execute_input": "2020-10-07T20:55:56.414589Z",
     "iopub.status.busy": "2020-10-07T20:55:56.413718Z",
     "iopub.status.idle": "2020-10-07T20:55:56.416948Z",
     "shell.execute_reply": "2020-10-07T20:55:56.416281Z"
    },
    "id": "aFgvnsGMkzVt",
    "papermill": {
     "duration": 0.044642,
     "end_time": "2020-10-07T20:55:56.417100",
     "exception": false,
     "start_time": "2020-10-07T20:55:56.372458",
     "status": "completed"
    },
    "tags": []
   },
   "outputs": [],
   "source": [
    "# Adding the feature names to the dataframe\n",
    "data.columns = boston.feature_names"
   ]
  },
  {
   "cell_type": "code",
   "execution_count": 7,
   "metadata": {
    "execution": {
     "iopub.execute_input": "2020-10-07T20:55:56.500235Z",
     "iopub.status.busy": "2020-10-07T20:55:56.499280Z",
     "iopub.status.idle": "2020-10-07T20:55:56.501806Z",
     "shell.execute_reply": "2020-10-07T20:55:56.502396Z"
    },
    "id": "7OFD5PmzkzVt",
    "papermill": {
     "duration": 0.048845,
     "end_time": "2020-10-07T20:55:56.502563",
     "exception": false,
     "start_time": "2020-10-07T20:55:56.453718",
     "status": "completed"
    },
    "tags": []
   },
   "outputs": [],
   "source": [
    "# Adding the target variable to the dataset\n",
    "data['PRICE'] = boston.target "
   ]
  },
  {
   "cell_type": "code",
   "execution_count": 8,
   "metadata": {
    "colab": {
     "base_uri": "https://localhost:8080/",
     "height": 206
    },
    "execution": {
     "iopub.execute_input": "2020-10-07T20:55:56.590835Z",
     "iopub.status.busy": "2020-10-07T20:55:56.586563Z",
     "iopub.status.idle": "2020-10-07T20:55:56.607051Z",
     "shell.execute_reply": "2020-10-07T20:55:56.606239Z"
    },
    "id": "kutCJlyPkzVt",
    "outputId": "4ba1eb8a-2146-4da5-aba7-ecf38834b731",
    "papermill": {
     "duration": 0.068592,
     "end_time": "2020-10-07T20:55:56.607185",
     "exception": false,
     "start_time": "2020-10-07T20:55:56.538593",
     "status": "completed"
    },
    "tags": []
   },
   "outputs": [
    {
     "data": {
      "text/html": [
       "<div>\n",
       "<style scoped>\n",
       "    .dataframe tbody tr th:only-of-type {\n",
       "        vertical-align: middle;\n",
       "    }\n",
       "\n",
       "    .dataframe tbody tr th {\n",
       "        vertical-align: top;\n",
       "    }\n",
       "\n",
       "    .dataframe thead th {\n",
       "        text-align: right;\n",
       "    }\n",
       "</style>\n",
       "<table border=\"1\" class=\"dataframe\">\n",
       "  <thead>\n",
       "    <tr style=\"text-align: right;\">\n",
       "      <th></th>\n",
       "      <th>CRIM</th>\n",
       "      <th>ZN</th>\n",
       "      <th>INDUS</th>\n",
       "      <th>CHAS</th>\n",
       "      <th>NOX</th>\n",
       "      <th>RM</th>\n",
       "      <th>AGE</th>\n",
       "      <th>DIS</th>\n",
       "      <th>RAD</th>\n",
       "      <th>TAX</th>\n",
       "      <th>PTRATIO</th>\n",
       "      <th>B</th>\n",
       "      <th>LSTAT</th>\n",
       "      <th>PRICE</th>\n",
       "    </tr>\n",
       "  </thead>\n",
       "  <tbody>\n",
       "    <tr>\n",
       "      <th>0</th>\n",
       "      <td>0.00632</td>\n",
       "      <td>18.0</td>\n",
       "      <td>2.31</td>\n",
       "      <td>0.0</td>\n",
       "      <td>0.538</td>\n",
       "      <td>6.575</td>\n",
       "      <td>65.2</td>\n",
       "      <td>4.0900</td>\n",
       "      <td>1.0</td>\n",
       "      <td>296.0</td>\n",
       "      <td>15.3</td>\n",
       "      <td>396.90</td>\n",
       "      <td>4.98</td>\n",
       "      <td>24.0</td>\n",
       "    </tr>\n",
       "    <tr>\n",
       "      <th>1</th>\n",
       "      <td>0.02731</td>\n",
       "      <td>0.0</td>\n",
       "      <td>7.07</td>\n",
       "      <td>0.0</td>\n",
       "      <td>0.469</td>\n",
       "      <td>6.421</td>\n",
       "      <td>78.9</td>\n",
       "      <td>4.9671</td>\n",
       "      <td>2.0</td>\n",
       "      <td>242.0</td>\n",
       "      <td>17.8</td>\n",
       "      <td>396.90</td>\n",
       "      <td>9.14</td>\n",
       "      <td>21.6</td>\n",
       "    </tr>\n",
       "    <tr>\n",
       "      <th>2</th>\n",
       "      <td>0.02729</td>\n",
       "      <td>0.0</td>\n",
       "      <td>7.07</td>\n",
       "      <td>0.0</td>\n",
       "      <td>0.469</td>\n",
       "      <td>7.185</td>\n",
       "      <td>61.1</td>\n",
       "      <td>4.9671</td>\n",
       "      <td>2.0</td>\n",
       "      <td>242.0</td>\n",
       "      <td>17.8</td>\n",
       "      <td>392.83</td>\n",
       "      <td>4.03</td>\n",
       "      <td>34.7</td>\n",
       "    </tr>\n",
       "    <tr>\n",
       "      <th>3</th>\n",
       "      <td>0.03237</td>\n",
       "      <td>0.0</td>\n",
       "      <td>2.18</td>\n",
       "      <td>0.0</td>\n",
       "      <td>0.458</td>\n",
       "      <td>6.998</td>\n",
       "      <td>45.8</td>\n",
       "      <td>6.0622</td>\n",
       "      <td>3.0</td>\n",
       "      <td>222.0</td>\n",
       "      <td>18.7</td>\n",
       "      <td>394.63</td>\n",
       "      <td>2.94</td>\n",
       "      <td>33.4</td>\n",
       "    </tr>\n",
       "    <tr>\n",
       "      <th>4</th>\n",
       "      <td>0.06905</td>\n",
       "      <td>0.0</td>\n",
       "      <td>2.18</td>\n",
       "      <td>0.0</td>\n",
       "      <td>0.458</td>\n",
       "      <td>7.147</td>\n",
       "      <td>54.2</td>\n",
       "      <td>6.0622</td>\n",
       "      <td>3.0</td>\n",
       "      <td>222.0</td>\n",
       "      <td>18.7</td>\n",
       "      <td>396.90</td>\n",
       "      <td>5.33</td>\n",
       "      <td>36.2</td>\n",
       "    </tr>\n",
       "  </tbody>\n",
       "</table>\n",
       "</div>"
      ],
      "text/plain": [
       "      CRIM    ZN  INDUS  CHAS    NOX     RM   AGE     DIS  RAD    TAX  \\\n",
       "0  0.00632  18.0   2.31   0.0  0.538  6.575  65.2  4.0900  1.0  296.0   \n",
       "1  0.02731   0.0   7.07   0.0  0.469  6.421  78.9  4.9671  2.0  242.0   \n",
       "2  0.02729   0.0   7.07   0.0  0.469  7.185  61.1  4.9671  2.0  242.0   \n",
       "3  0.03237   0.0   2.18   0.0  0.458  6.998  45.8  6.0622  3.0  222.0   \n",
       "4  0.06905   0.0   2.18   0.0  0.458  7.147  54.2  6.0622  3.0  222.0   \n",
       "\n",
       "   PTRATIO       B  LSTAT  PRICE  \n",
       "0     15.3  396.90   4.98   24.0  \n",
       "1     17.8  396.90   9.14   21.6  \n",
       "2     17.8  392.83   4.03   34.7  \n",
       "3     18.7  394.63   2.94   33.4  \n",
       "4     18.7  396.90   5.33   36.2  "
      ]
     },
     "execution_count": 8,
     "metadata": {},
     "output_type": "execute_result"
    }
   ],
   "source": [
    "# Looking at the data with names and target variable\n",
    "data.head()"
   ]
  },
  {
   "cell_type": "code",
   "execution_count": 9,
   "metadata": {
    "colab": {
     "base_uri": "https://localhost:8080/"
    },
    "execution": {
     "iopub.execute_input": "2020-10-07T20:55:56.778245Z",
     "iopub.status.busy": "2020-10-07T20:55:56.775133Z",
     "iopub.status.idle": "2020-10-07T20:55:56.783287Z",
     "shell.execute_reply": "2020-10-07T20:55:56.782651Z"
    },
    "id": "Y8NNeWsYkzVu",
    "outputId": "fae98406-0a96-4ff1-bba8-32a4196bb02b",
    "papermill": {
     "duration": 0.051644,
     "end_time": "2020-10-07T20:55:56.783452",
     "exception": false,
     "start_time": "2020-10-07T20:55:56.731808",
     "status": "completed"
    },
    "tags": []
   },
   "outputs": [
    {
     "data": {
      "text/plain": [
       "CRIM       0\n",
       "ZN         0\n",
       "INDUS      0\n",
       "CHAS       0\n",
       "NOX        0\n",
       "RM         0\n",
       "AGE        0\n",
       "DIS        0\n",
       "RAD        0\n",
       "TAX        0\n",
       "PTRATIO    0\n",
       "B          0\n",
       "LSTAT      0\n",
       "PRICE      0\n",
       "dtype: int64"
      ]
     },
     "execution_count": 9,
     "metadata": {},
     "output_type": "execute_result"
    }
   ],
   "source": [
    "# Checking the null values in the dataset\n",
    "data.isnull().sum()"
   ]
  },
  {
   "cell_type": "code",
   "execution_count": 10,
   "metadata": {
    "colab": {
     "base_uri": "https://localhost:8080/",
     "height": 300
    },
    "execution": {
     "iopub.execute_input": "2020-10-07T20:55:56.953447Z",
     "iopub.status.busy": "2020-10-07T20:55:56.952628Z",
     "iopub.status.idle": "2020-10-07T20:55:57.021634Z",
     "shell.execute_reply": "2020-10-07T20:55:57.020973Z"
    },
    "id": "U6qSIVWMkzVu",
    "outputId": "2d0917fd-0efa-4338-9508-32fbc1fcc51e",
    "papermill": {
     "duration": 0.121217,
     "end_time": "2020-10-07T20:55:57.021775",
     "exception": false,
     "start_time": "2020-10-07T20:55:56.900558",
     "status": "completed"
    },
    "tags": []
   },
   "outputs": [
    {
     "data": {
      "text/html": [
       "<div>\n",
       "<style scoped>\n",
       "    .dataframe tbody tr th:only-of-type {\n",
       "        vertical-align: middle;\n",
       "    }\n",
       "\n",
       "    .dataframe tbody tr th {\n",
       "        vertical-align: top;\n",
       "    }\n",
       "\n",
       "    .dataframe thead th {\n",
       "        text-align: right;\n",
       "    }\n",
       "</style>\n",
       "<table border=\"1\" class=\"dataframe\">\n",
       "  <thead>\n",
       "    <tr style=\"text-align: right;\">\n",
       "      <th></th>\n",
       "      <th>CRIM</th>\n",
       "      <th>ZN</th>\n",
       "      <th>INDUS</th>\n",
       "      <th>CHAS</th>\n",
       "      <th>NOX</th>\n",
       "      <th>RM</th>\n",
       "      <th>AGE</th>\n",
       "      <th>DIS</th>\n",
       "      <th>RAD</th>\n",
       "      <th>TAX</th>\n",
       "      <th>PTRATIO</th>\n",
       "      <th>B</th>\n",
       "      <th>LSTAT</th>\n",
       "      <th>PRICE</th>\n",
       "    </tr>\n",
       "  </thead>\n",
       "  <tbody>\n",
       "    <tr>\n",
       "      <th>count</th>\n",
       "      <td>506.000000</td>\n",
       "      <td>506.000000</td>\n",
       "      <td>506.000000</td>\n",
       "      <td>506.000000</td>\n",
       "      <td>506.000000</td>\n",
       "      <td>506.000000</td>\n",
       "      <td>506.000000</td>\n",
       "      <td>506.000000</td>\n",
       "      <td>506.000000</td>\n",
       "      <td>506.000000</td>\n",
       "      <td>506.000000</td>\n",
       "      <td>506.000000</td>\n",
       "      <td>506.000000</td>\n",
       "      <td>506.000000</td>\n",
       "    </tr>\n",
       "    <tr>\n",
       "      <th>mean</th>\n",
       "      <td>3.613524</td>\n",
       "      <td>11.363636</td>\n",
       "      <td>11.136779</td>\n",
       "      <td>0.069170</td>\n",
       "      <td>0.554695</td>\n",
       "      <td>6.284634</td>\n",
       "      <td>68.574901</td>\n",
       "      <td>3.795043</td>\n",
       "      <td>9.549407</td>\n",
       "      <td>408.237154</td>\n",
       "      <td>18.455534</td>\n",
       "      <td>356.674032</td>\n",
       "      <td>12.653063</td>\n",
       "      <td>22.532806</td>\n",
       "    </tr>\n",
       "    <tr>\n",
       "      <th>std</th>\n",
       "      <td>8.601545</td>\n",
       "      <td>23.322453</td>\n",
       "      <td>6.860353</td>\n",
       "      <td>0.253994</td>\n",
       "      <td>0.115878</td>\n",
       "      <td>0.702617</td>\n",
       "      <td>28.148861</td>\n",
       "      <td>2.105710</td>\n",
       "      <td>8.707259</td>\n",
       "      <td>168.537116</td>\n",
       "      <td>2.164946</td>\n",
       "      <td>91.294864</td>\n",
       "      <td>7.141062</td>\n",
       "      <td>9.197104</td>\n",
       "    </tr>\n",
       "    <tr>\n",
       "      <th>min</th>\n",
       "      <td>0.006320</td>\n",
       "      <td>0.000000</td>\n",
       "      <td>0.460000</td>\n",
       "      <td>0.000000</td>\n",
       "      <td>0.385000</td>\n",
       "      <td>3.561000</td>\n",
       "      <td>2.900000</td>\n",
       "      <td>1.129600</td>\n",
       "      <td>1.000000</td>\n",
       "      <td>187.000000</td>\n",
       "      <td>12.600000</td>\n",
       "      <td>0.320000</td>\n",
       "      <td>1.730000</td>\n",
       "      <td>5.000000</td>\n",
       "    </tr>\n",
       "    <tr>\n",
       "      <th>25%</th>\n",
       "      <td>0.082045</td>\n",
       "      <td>0.000000</td>\n",
       "      <td>5.190000</td>\n",
       "      <td>0.000000</td>\n",
       "      <td>0.449000</td>\n",
       "      <td>5.885500</td>\n",
       "      <td>45.025000</td>\n",
       "      <td>2.100175</td>\n",
       "      <td>4.000000</td>\n",
       "      <td>279.000000</td>\n",
       "      <td>17.400000</td>\n",
       "      <td>375.377500</td>\n",
       "      <td>6.950000</td>\n",
       "      <td>17.025000</td>\n",
       "    </tr>\n",
       "    <tr>\n",
       "      <th>50%</th>\n",
       "      <td>0.256510</td>\n",
       "      <td>0.000000</td>\n",
       "      <td>9.690000</td>\n",
       "      <td>0.000000</td>\n",
       "      <td>0.538000</td>\n",
       "      <td>6.208500</td>\n",
       "      <td>77.500000</td>\n",
       "      <td>3.207450</td>\n",
       "      <td>5.000000</td>\n",
       "      <td>330.000000</td>\n",
       "      <td>19.050000</td>\n",
       "      <td>391.440000</td>\n",
       "      <td>11.360000</td>\n",
       "      <td>21.200000</td>\n",
       "    </tr>\n",
       "    <tr>\n",
       "      <th>75%</th>\n",
       "      <td>3.677083</td>\n",
       "      <td>12.500000</td>\n",
       "      <td>18.100000</td>\n",
       "      <td>0.000000</td>\n",
       "      <td>0.624000</td>\n",
       "      <td>6.623500</td>\n",
       "      <td>94.075000</td>\n",
       "      <td>5.188425</td>\n",
       "      <td>24.000000</td>\n",
       "      <td>666.000000</td>\n",
       "      <td>20.200000</td>\n",
       "      <td>396.225000</td>\n",
       "      <td>16.955000</td>\n",
       "      <td>25.000000</td>\n",
       "    </tr>\n",
       "    <tr>\n",
       "      <th>max</th>\n",
       "      <td>88.976200</td>\n",
       "      <td>100.000000</td>\n",
       "      <td>27.740000</td>\n",
       "      <td>1.000000</td>\n",
       "      <td>0.871000</td>\n",
       "      <td>8.780000</td>\n",
       "      <td>100.000000</td>\n",
       "      <td>12.126500</td>\n",
       "      <td>24.000000</td>\n",
       "      <td>711.000000</td>\n",
       "      <td>22.000000</td>\n",
       "      <td>396.900000</td>\n",
       "      <td>37.970000</td>\n",
       "      <td>50.000000</td>\n",
       "    </tr>\n",
       "  </tbody>\n",
       "</table>\n",
       "</div>"
      ],
      "text/plain": [
       "             CRIM          ZN       INDUS        CHAS         NOX          RM  \\\n",
       "count  506.000000  506.000000  506.000000  506.000000  506.000000  506.000000   \n",
       "mean     3.613524   11.363636   11.136779    0.069170    0.554695    6.284634   \n",
       "std      8.601545   23.322453    6.860353    0.253994    0.115878    0.702617   \n",
       "min      0.006320    0.000000    0.460000    0.000000    0.385000    3.561000   \n",
       "25%      0.082045    0.000000    5.190000    0.000000    0.449000    5.885500   \n",
       "50%      0.256510    0.000000    9.690000    0.000000    0.538000    6.208500   \n",
       "75%      3.677083   12.500000   18.100000    0.000000    0.624000    6.623500   \n",
       "max     88.976200  100.000000   27.740000    1.000000    0.871000    8.780000   \n",
       "\n",
       "              AGE         DIS         RAD         TAX     PTRATIO           B  \\\n",
       "count  506.000000  506.000000  506.000000  506.000000  506.000000  506.000000   \n",
       "mean    68.574901    3.795043    9.549407  408.237154   18.455534  356.674032   \n",
       "std     28.148861    2.105710    8.707259  168.537116    2.164946   91.294864   \n",
       "min      2.900000    1.129600    1.000000  187.000000   12.600000    0.320000   \n",
       "25%     45.025000    2.100175    4.000000  279.000000   17.400000  375.377500   \n",
       "50%     77.500000    3.207450    5.000000  330.000000   19.050000  391.440000   \n",
       "75%     94.075000    5.188425   24.000000  666.000000   20.200000  396.225000   \n",
       "max    100.000000   12.126500   24.000000  711.000000   22.000000  396.900000   \n",
       "\n",
       "            LSTAT       PRICE  \n",
       "count  506.000000  506.000000  \n",
       "mean    12.653063   22.532806  \n",
       "std      7.141062    9.197104  \n",
       "min      1.730000    5.000000  \n",
       "25%      6.950000   17.025000  \n",
       "50%     11.360000   21.200000  \n",
       "75%     16.955000   25.000000  \n",
       "max     37.970000   50.000000  "
      ]
     },
     "execution_count": 10,
     "metadata": {},
     "output_type": "execute_result"
    }
   ],
   "source": [
    "# Checking the statistics of the data\n",
    "data.describe()"
   ]
  },
  {
   "cell_type": "code",
   "execution_count": 11,
   "metadata": {
    "colab": {
     "base_uri": "https://localhost:8080/"
    },
    "execution": {
     "iopub.execute_input": "2020-10-07T20:55:57.195790Z",
     "iopub.status.busy": "2020-10-07T20:55:57.194932Z",
     "iopub.status.idle": "2020-10-07T20:55:57.199253Z",
     "shell.execute_reply": "2020-10-07T20:55:57.198271Z"
    },
    "id": "iqv29sEdkzVv",
    "outputId": "f4b4dc7a-4ca4-424e-bed2-794ab852d468",
    "papermill": {
     "duration": 0.059044,
     "end_time": "2020-10-07T20:55:57.199444",
     "exception": false,
     "start_time": "2020-10-07T20:55:57.140400",
     "status": "completed"
    },
    "tags": []
   },
   "outputs": [
    {
     "name": "stdout",
     "output_type": "stream",
     "text": [
      "<class 'pandas.core.frame.DataFrame'>\n",
      "RangeIndex: 506 entries, 0 to 505\n",
      "Data columns (total 14 columns):\n",
      " #   Column   Non-Null Count  Dtype  \n",
      "---  ------   --------------  -----  \n",
      " 0   CRIM     506 non-null    float64\n",
      " 1   ZN       506 non-null    float64\n",
      " 2   INDUS    506 non-null    float64\n",
      " 3   CHAS     506 non-null    float64\n",
      " 4   NOX      506 non-null    float64\n",
      " 5   RM       506 non-null    float64\n",
      " 6   AGE      506 non-null    float64\n",
      " 7   DIS      506 non-null    float64\n",
      " 8   RAD      506 non-null    float64\n",
      " 9   TAX      506 non-null    float64\n",
      " 10  PTRATIO  506 non-null    float64\n",
      " 11  B        506 non-null    float64\n",
      " 12  LSTAT    506 non-null    float64\n",
      " 13  PRICE    506 non-null    float64\n",
      "dtypes: float64(14)\n",
      "memory usage: 55.5 KB\n"
     ]
    }
   ],
   "source": [
    "data.info()"
   ]
  },
  {
   "cell_type": "code",
   "execution_count": 12,
   "metadata": {
    "execution": {
     "iopub.execute_input": "2020-10-07T20:56:00.746689Z",
     "iopub.status.busy": "2020-10-07T20:56:00.745862Z",
     "iopub.status.idle": "2020-10-07T20:56:00.749761Z",
     "shell.execute_reply": "2020-10-07T20:56:00.748926Z"
    },
    "id": "kvQ_F3_0kzVx",
    "papermill": {
     "duration": 0.060237,
     "end_time": "2020-10-07T20:56:00.749904",
     "exception": false,
     "start_time": "2020-10-07T20:56:00.689667",
     "status": "completed"
    },
    "tags": []
   },
   "outputs": [],
   "source": [
    "# X = data[['LSTAT','RM','PTRATIO']]\n",
    "X = data.iloc[:,:-1]\n",
    "y= data.PRICE"
   ]
  },
  {
   "cell_type": "code",
   "execution_count": 13,
   "metadata": {
    "execution": {
     "iopub.execute_input": "2020-10-07T20:56:00.955422Z",
     "iopub.status.busy": "2020-10-07T20:56:00.954564Z",
     "iopub.status.idle": "2020-10-07T20:56:01.027363Z",
     "shell.execute_reply": "2020-10-07T20:56:01.026674Z"
    },
    "id": "KaBqqd7mkzVx",
    "papermill": {
     "duration": 0.127892,
     "end_time": "2020-10-07T20:56:01.027528",
     "exception": false,
     "start_time": "2020-10-07T20:56:00.899636",
     "status": "completed"
    },
    "tags": []
   },
   "outputs": [],
   "source": [
    "# Splitting the data into train and test for building the model\n",
    "from sklearn.model_selection import train_test_split\n",
    "X_train, X_test, y_train, y_test = train_test_split(X,y, test_size = 0.2, random_state = 4)"
   ]
  },
  {
   "cell_type": "code",
   "execution_count": 14,
   "metadata": {
    "execution": {
     "iopub.execute_input": "2020-10-07T20:56:01.232610Z",
     "iopub.status.busy": "2020-10-07T20:56:01.231721Z",
     "iopub.status.idle": "2020-10-07T20:56:01.351412Z",
     "shell.execute_reply": "2020-10-07T20:56:01.350526Z"
    },
    "id": "lBkM-YEZkzVy",
    "papermill": {
     "duration": 0.174952,
     "end_time": "2020-10-07T20:56:01.351555",
     "exception": false,
     "start_time": "2020-10-07T20:56:01.176603",
     "status": "completed"
    },
    "tags": []
   },
   "outputs": [],
   "source": [
    "# Linear Regression \n",
    "from sklearn.linear_model import LinearRegression\n",
    "regressor = LinearRegression()"
   ]
  },
  {
   "cell_type": "code",
   "execution_count": 15,
   "metadata": {
    "colab": {
     "base_uri": "https://localhost:8080/"
    },
    "execution": {
     "iopub.execute_input": "2020-10-07T20:56:01.531645Z",
     "iopub.status.busy": "2020-10-07T20:56:01.530133Z",
     "iopub.status.idle": "2020-10-07T20:56:01.539001Z",
     "shell.execute_reply": "2020-10-07T20:56:01.538076Z"
    },
    "id": "lVCg0jnukzVy",
    "outputId": "283e5efa-d0f5-4bc5-e304-3e1f9a3a6f92",
    "papermill": {
     "duration": 0.134823,
     "end_time": "2020-10-07T20:56:01.539185",
     "exception": false,
     "start_time": "2020-10-07T20:56:01.404362",
     "status": "completed"
    },
    "tags": []
   },
   "outputs": [
    {
     "data": {
      "text/plain": [
       "LinearRegression()"
      ]
     },
     "execution_count": 15,
     "metadata": {},
     "output_type": "execute_result"
    }
   ],
   "source": [
    "# Fitting the model\n",
    "regressor.fit(X_train,y_train)"
   ]
  },
  {
   "cell_type": "code",
   "execution_count": 16,
   "metadata": {
    "execution": {
     "iopub.execute_input": "2020-10-07T20:56:01.779402Z",
     "iopub.status.busy": "2020-10-07T20:56:01.778398Z",
     "iopub.status.idle": "2020-10-07T20:56:01.782567Z",
     "shell.execute_reply": "2020-10-07T20:56:01.781875Z"
    },
    "id": "DbzxFEnukzVy",
    "papermill": {
     "duration": 0.077452,
     "end_time": "2020-10-07T20:56:01.782725",
     "exception": false,
     "start_time": "2020-10-07T20:56:01.705273",
     "status": "completed"
    },
    "tags": []
   },
   "outputs": [],
   "source": [
    "# Prediction on the test dataset\n",
    "y_pred = regressor.predict(X_test)"
   ]
  },
  {
   "cell_type": "code",
   "execution_count": 17,
   "metadata": {
    "colab": {
     "base_uri": "https://localhost:8080/"
    },
    "execution": {
     "iopub.execute_input": "2020-10-07T20:56:01.907289Z",
     "iopub.status.busy": "2020-10-07T20:56:01.905853Z",
     "iopub.status.idle": "2020-10-07T20:56:01.911015Z",
     "shell.execute_reply": "2020-10-07T20:56:01.912063Z"
    },
    "id": "fsk9VmWukzVy",
    "outputId": "203d2915-f428-442f-88a8-fef5d617db26",
    "papermill": {
     "duration": 0.071746,
     "end_time": "2020-10-07T20:56:01.912362",
     "exception": false,
     "start_time": "2020-10-07T20:56:01.840616",
     "status": "completed"
    },
    "tags": []
   },
   "outputs": [
    {
     "name": "stdout",
     "output_type": "stream",
     "text": [
      "5.041784121402051\n"
     ]
    }
   ],
   "source": [
    "# Predicting RMSE the Test set results\n",
    "from sklearn.metrics import mean_squared_error\n",
    "rmse = (np.sqrt(mean_squared_error(y_test, y_pred)))\n",
    "print(rmse)"
   ]
  },
  {
   "cell_type": "code",
   "execution_count": 18,
   "metadata": {
    "execution": {
     "iopub.execute_input": "2020-10-07T20:56:02.279947Z",
     "iopub.status.busy": "2020-10-07T20:56:02.279001Z",
     "iopub.status.idle": "2020-10-07T20:56:02.291535Z",
     "shell.execute_reply": "2020-10-07T20:56:02.290743Z"
    },
    "id": "OVNy9vTqkzVz",
    "papermill": {
     "duration": 0.077294,
     "end_time": "2020-10-07T20:56:02.291688",
     "exception": false,
     "start_time": "2020-10-07T20:56:02.214394",
     "status": "completed"
    },
    "tags": []
   },
   "outputs": [],
   "source": [
    "# Scaling the dataset\n",
    "from sklearn.preprocessing import StandardScaler\n",
    "sc = StandardScaler()\n",
    "X_train = sc.fit_transform(X_train)\n",
    "X_test = sc.transform(X_test)"
   ]
  },
  {
   "cell_type": "code",
   "execution_count": 19,
   "metadata": {
    "execution": {
     "iopub.execute_input": "2020-10-07T20:56:02.521142Z",
     "iopub.status.busy": "2020-10-07T20:56:02.520202Z",
     "iopub.status.idle": "2020-10-07T20:56:02.813516Z",
     "shell.execute_reply": "2020-10-07T20:56:02.812803Z"
    },
    "id": "VNCXVnCMkzV0",
    "papermill": {
     "duration": 0.36162,
     "end_time": "2020-10-07T20:56:02.813669",
     "exception": false,
     "start_time": "2020-10-07T20:56:02.452049",
     "status": "completed"
    },
    "tags": []
   },
   "outputs": [],
   "source": [
    "# Creating the neural network model\n",
    "import keras\n",
    "from keras.layers import Dense, Activation,Dropout\n",
    "from keras.models import Sequential\n",
    "\n",
    "model = Sequential()\n",
    "\n",
    "model.add(Dense(128,activation  = 'relu',input_dim =13))\n",
    "model.add(Dense(64,activation  = 'relu'))\n",
    "model.add(Dense(32,activation  = 'relu'))\n",
    "model.add(Dense(16,activation  = 'relu'))\n",
    "model.add(Dense(1))\n",
    "model.compile(optimizer = 'adam',loss = 'mean_squared_error')"
   ]
  },
  {
   "cell_type": "code",
   "execution_count": 20,
   "metadata": {
    "colab": {
     "base_uri": "https://localhost:8080/"
    },
    "execution": {
     "iopub.execute_input": "2020-10-07T20:56:02.934653Z",
     "iopub.status.busy": "2020-10-07T20:56:02.933663Z",
     "iopub.status.idle": "2020-10-07T20:56:07.137189Z",
     "shell.execute_reply": "2020-10-07T20:56:07.137910Z"
    },
    "id": "auSQJAEBkzV0",
    "outputId": "42ceee53-ce27-47bd-9a54-78242e84524b",
    "papermill": {
     "duration": 4.268213,
     "end_time": "2020-10-07T20:56:07.138097",
     "exception": false,
     "start_time": "2020-10-07T20:56:02.869884",
     "status": "completed"
    },
    "tags": []
   },
   "outputs": [
    {
     "name": "stdout",
     "output_type": "stream",
     "text": [
      "Epoch 1/100\n",
      "13/13 [==============================] - 6s 26ms/step - loss: 540.4693\n",
      "Epoch 2/100\n",
      "13/13 [==============================] - 0s 17ms/step - loss: 411.1696\n",
      "Epoch 3/100\n",
      "13/13 [==============================] - 0s 13ms/step - loss: 178.1917\n",
      "Epoch 4/100\n",
      "13/13 [==============================] - 0s 13ms/step - loss: 69.2890\n",
      "Epoch 5/100\n",
      "13/13 [==============================] - 0s 16ms/step - loss: 37.1644\n",
      "Epoch 6/100\n",
      "13/13 [==============================] - 0s 18ms/step - loss: 26.9797\n",
      "Epoch 7/100\n",
      "13/13 [==============================] - 0s 14ms/step - loss: 22.5756\n",
      "Epoch 8/100\n",
      "13/13 [==============================] - 0s 13ms/step - loss: 20.3887\n",
      "Epoch 9/100\n",
      "13/13 [==============================] - 0s 14ms/step - loss: 18.7250\n",
      "Epoch 10/100\n",
      "13/13 [==============================] - 0s 12ms/step - loss: 17.2923\n",
      "Epoch 11/100\n",
      "13/13 [==============================] - 0s 13ms/step - loss: 16.3722\n",
      "Epoch 12/100\n",
      "13/13 [==============================] - 0s 13ms/step - loss: 15.4162\n",
      "Epoch 13/100\n",
      "13/13 [==============================] - 0s 12ms/step - loss: 14.7921\n",
      "Epoch 14/100\n",
      "13/13 [==============================] - 0s 10ms/step - loss: 14.3918\n",
      "Epoch 15/100\n",
      "13/13 [==============================] - 0s 14ms/step - loss: 13.9327\n",
      "Epoch 16/100\n",
      "13/13 [==============================] - 0s 10ms/step - loss: 13.1878\n",
      "Epoch 17/100\n",
      "13/13 [==============================] - 0s 12ms/step - loss: 12.7227\n",
      "Epoch 18/100\n",
      "13/13 [==============================] - 0s 15ms/step - loss: 12.4650\n",
      "Epoch 19/100\n",
      "13/13 [==============================] - 0s 16ms/step - loss: 12.2924\n",
      "Epoch 20/100\n",
      "13/13 [==============================] - 0s 11ms/step - loss: 11.8029\n",
      "Epoch 21/100\n",
      "13/13 [==============================] - 0s 12ms/step - loss: 11.4396\n",
      "Epoch 22/100\n",
      "13/13 [==============================] - 0s 10ms/step - loss: 11.1263\n",
      "Epoch 23/100\n",
      "13/13 [==============================] - 0s 14ms/step - loss: 10.9222\n",
      "Epoch 24/100\n",
      "13/13 [==============================] - 0s 16ms/step - loss: 10.6210\n",
      "Epoch 25/100\n",
      "13/13 [==============================] - 0s 25ms/step - loss: 10.2961\n",
      "Epoch 26/100\n",
      "13/13 [==============================] - 0s 12ms/step - loss: 10.1644\n",
      "Epoch 27/100\n",
      "13/13 [==============================] - 0s 12ms/step - loss: 10.1037\n",
      "Epoch 28/100\n",
      "13/13 [==============================] - 0s 19ms/step - loss: 10.0200\n",
      "Epoch 29/100\n",
      "13/13 [==============================] - 0s 19ms/step - loss: 9.7257\n",
      "Epoch 30/100\n",
      "13/13 [==============================] - 0s 18ms/step - loss: 9.5605\n",
      "Epoch 31/100\n",
      "13/13 [==============================] - 0s 32ms/step - loss: 9.3498\n",
      "Epoch 32/100\n",
      "13/13 [==============================] - 0s 18ms/step - loss: 9.3125\n",
      "Epoch 33/100\n",
      "13/13 [==============================] - 0s 30ms/step - loss: 9.0316\n",
      "Epoch 34/100\n",
      "13/13 [==============================] - 0s 23ms/step - loss: 8.5921\n",
      "Epoch 35/100\n",
      "13/13 [==============================] - 0s 37ms/step - loss: 8.5579\n",
      "Epoch 36/100\n",
      "13/13 [==============================] - 0s 17ms/step - loss: 8.5351\n",
      "Epoch 37/100\n",
      "13/13 [==============================] - 0s 24ms/step - loss: 8.3969\n",
      "Epoch 38/100\n",
      "13/13 [==============================] - 0s 22ms/step - loss: 8.3134\n",
      "Epoch 39/100\n",
      "13/13 [==============================] - 0s 17ms/step - loss: 8.2541\n",
      "Epoch 40/100\n",
      "13/13 [==============================] - 0s 20ms/step - loss: 7.9047\n",
      "Epoch 41/100\n",
      "13/13 [==============================] - 0s 20ms/step - loss: 7.6650\n",
      "Epoch 42/100\n",
      "13/13 [==============================] - 0s 17ms/step - loss: 7.5536\n",
      "Epoch 43/100\n",
      "13/13 [==============================] - 0s 16ms/step - loss: 7.2202\n",
      "Epoch 44/100\n",
      "13/13 [==============================] - 0s 16ms/step - loss: 7.0836\n",
      "Epoch 45/100\n",
      "13/13 [==============================] - 0s 11ms/step - loss: 7.1866\n",
      "Epoch 46/100\n",
      "13/13 [==============================] - 0s 13ms/step - loss: 6.9928\n",
      "Epoch 47/100\n",
      "13/13 [==============================] - 0s 15ms/step - loss: 7.0418\n",
      "Epoch 48/100\n",
      "13/13 [==============================] - 0s 14ms/step - loss: 6.7256\n",
      "Epoch 49/100\n",
      "13/13 [==============================] - 0s 14ms/step - loss: 6.5557\n",
      "Epoch 50/100\n",
      "13/13 [==============================] - 0s 12ms/step - loss: 6.7045\n",
      "Epoch 51/100\n",
      "13/13 [==============================] - 0s 14ms/step - loss: 6.9273\n",
      "Epoch 52/100\n",
      "13/13 [==============================] - 0s 11ms/step - loss: 6.5205\n",
      "Epoch 53/100\n",
      "13/13 [==============================] - 0s 11ms/step - loss: 7.1793\n",
      "Epoch 54/100\n",
      "13/13 [==============================] - 0s 11ms/step - loss: 6.0215\n",
      "Epoch 55/100\n",
      "13/13 [==============================] - 0s 14ms/step - loss: 5.9993\n",
      "Epoch 56/100\n",
      "13/13 [==============================] - 0s 18ms/step - loss: 5.7568\n",
      "Epoch 57/100\n",
      "13/13 [==============================] - 0s 15ms/step - loss: 5.7068\n",
      "Epoch 58/100\n",
      "13/13 [==============================] - 0s 14ms/step - loss: 5.4633\n",
      "Epoch 59/100\n",
      "13/13 [==============================] - 0s 15ms/step - loss: 5.3953\n",
      "Epoch 60/100\n",
      "13/13 [==============================] - 0s 21ms/step - loss: 5.1325\n",
      "Epoch 61/100\n",
      "13/13 [==============================] - 0s 17ms/step - loss: 5.0948\n",
      "Epoch 62/100\n",
      "13/13 [==============================] - 0s 13ms/step - loss: 5.0222\n",
      "Epoch 63/100\n",
      "13/13 [==============================] - 0s 17ms/step - loss: 5.0290\n",
      "Epoch 64/100\n",
      "13/13 [==============================] - 0s 15ms/step - loss: 4.7766\n",
      "Epoch 65/100\n",
      "13/13 [==============================] - 0s 15ms/step - loss: 4.9083\n",
      "Epoch 66/100\n",
      "13/13 [==============================] - 0s 14ms/step - loss: 4.9249\n",
      "Epoch 67/100\n",
      "13/13 [==============================] - 0s 19ms/step - loss: 4.8522\n",
      "Epoch 68/100\n",
      "13/13 [==============================] - 0s 13ms/step - loss: 4.8617\n",
      "Epoch 69/100\n",
      "13/13 [==============================] - 0s 16ms/step - loss: 4.4560\n",
      "Epoch 70/100\n",
      "13/13 [==============================] - 0s 21ms/step - loss: 4.4308\n",
      "Epoch 71/100\n",
      "13/13 [==============================] - 0s 17ms/step - loss: 4.3001\n",
      "Epoch 72/100\n",
      "13/13 [==============================] - 0s 17ms/step - loss: 4.4407\n",
      "Epoch 73/100\n",
      "13/13 [==============================] - 0s 27ms/step - loss: 4.1587\n",
      "Epoch 74/100\n",
      "13/13 [==============================] - 0s 12ms/step - loss: 4.0924\n",
      "Epoch 75/100\n",
      "13/13 [==============================] - 0s 20ms/step - loss: 4.1468\n",
      "Epoch 76/100\n",
      "13/13 [==============================] - 0s 32ms/step - loss: 4.0674\n",
      "Epoch 77/100\n",
      "13/13 [==============================] - 0s 19ms/step - loss: 3.9647\n",
      "Epoch 78/100\n",
      "13/13 [==============================] - 0s 17ms/step - loss: 3.9048\n",
      "Epoch 79/100\n",
      "13/13 [==============================] - 0s 17ms/step - loss: 4.3149\n",
      "Epoch 80/100\n",
      "13/13 [==============================] - 0s 18ms/step - loss: 4.1261\n",
      "Epoch 81/100\n",
      "13/13 [==============================] - 0s 14ms/step - loss: 4.1993\n",
      "Epoch 82/100\n",
      "13/13 [==============================] - 0s 27ms/step - loss: 4.2921\n",
      "Epoch 83/100\n",
      "13/13 [==============================] - 0s 17ms/step - loss: 4.2763\n",
      "Epoch 84/100\n",
      "13/13 [==============================] - 0s 16ms/step - loss: 4.1010\n",
      "Epoch 85/100\n",
      "13/13 [==============================] - 0s 12ms/step - loss: 3.8773\n",
      "Epoch 86/100\n",
      "13/13 [==============================] - 0s 15ms/step - loss: 3.5201\n",
      "Epoch 87/100\n",
      "13/13 [==============================] - 0s 12ms/step - loss: 3.7413\n",
      "Epoch 88/100\n",
      "13/13 [==============================] - 0s 11ms/step - loss: 3.6189\n",
      "Epoch 89/100\n",
      "13/13 [==============================] - 0s 15ms/step - loss: 3.5039\n",
      "Epoch 90/100\n",
      "13/13 [==============================] - 0s 27ms/step - loss: 3.4558\n",
      "Epoch 91/100\n",
      "13/13 [==============================] - 0s 15ms/step - loss: 3.2121\n",
      "Epoch 92/100\n",
      "13/13 [==============================] - 0s 13ms/step - loss: 3.7819\n",
      "Epoch 93/100\n",
      "13/13 [==============================] - 0s 25ms/step - loss: 3.5950\n",
      "Epoch 94/100\n",
      "13/13 [==============================] - 0s 11ms/step - loss: 3.3727\n",
      "Epoch 95/100\n",
      "13/13 [==============================] - 0s 11ms/step - loss: 3.3561\n",
      "Epoch 96/100\n",
      "13/13 [==============================] - 0s 14ms/step - loss: 3.2661\n",
      "Epoch 97/100\n",
      "13/13 [==============================] - 0s 12ms/step - loss: 3.1473\n",
      "Epoch 98/100\n",
      "13/13 [==============================] - 0s 12ms/step - loss: 3.1861\n",
      "Epoch 99/100\n",
      "13/13 [==============================] - 0s 12ms/step - loss: 3.1382\n",
      "Epoch 100/100\n",
      "13/13 [==============================] - 0s 12ms/step - loss: 3.0121\n"
     ]
    },
    {
     "data": {
      "text/plain": [
       "<keras.callbacks.History at 0x1dcca129d30>"
      ]
     },
     "execution_count": 20,
     "metadata": {},
     "output_type": "execute_result"
    }
   ],
   "source": [
    "model.fit(X_train, y_train, epochs = 100)"
   ]
  },
  {
   "cell_type": "code",
   "execution_count": 21,
   "metadata": {
    "colab": {
     "base_uri": "https://localhost:8080/"
    },
    "execution": {
     "iopub.execute_input": "2020-10-07T20:56:07.725859Z",
     "iopub.status.busy": "2020-10-07T20:56:07.724391Z",
     "iopub.status.idle": "2020-10-07T20:56:07.944661Z",
     "shell.execute_reply": "2020-10-07T20:56:07.945236Z"
    },
    "id": "q2b57iLYkzV0",
    "outputId": "ce6b0d7c-4d24-4d7a-d4ba-9ac1222456a9",
    "papermill": {
     "duration": 0.370667,
     "end_time": "2020-10-07T20:56:07.945463",
     "exception": false,
     "start_time": "2020-10-07T20:56:07.574796",
     "status": "completed"
    },
    "tags": []
   },
   "outputs": [
    {
     "name": "stdout",
     "output_type": "stream",
     "text": [
      "4/4 [==============================] - 1s 13ms/step\n"
     ]
    }
   ],
   "source": [
    "y_pred = model.predict(X_test)"
   ]
  },
  {
   "cell_type": "code",
   "execution_count": 22,
   "metadata": {
    "colab": {
     "base_uri": "https://localhost:8080/"
    },
    "id": "tnoVRulyn2aO",
    "outputId": "1dea6eb7-669a-4212-f6e6-bab69cc73a92"
   },
   "outputs": [
    {
     "name": "stdout",
     "output_type": "stream",
     "text": [
      "3.2580780107754803\n"
     ]
    }
   ],
   "source": [
    "# Predicting RMSE the Test set results\n",
    "from sklearn.metrics import mean_squared_error\n",
    "rmse = (np.sqrt(mean_squared_error(y_test, y_pred)))\n",
    "print(rmse)"
   ]
  },
  {
   "cell_type": "code",
   "execution_count": 27,
   "metadata": {},
   "outputs": [
    {
     "name": "stdout",
     "output_type": "stream",
     "text": [
      "4/4 [==============================] - 0s 5ms/step\n"
     ]
    }
   ],
   "source": [
    "# Making Predictions for testing data\n",
    "np.set_printoptions(suppress=True)\n",
    "result = model.predict(X_test)"
   ]
  },
  {
   "cell_type": "code",
   "execution_count": 28,
   "metadata": {},
   "outputs": [
    {
     "name": "stdout",
     "output_type": "stream",
     "text": [
      "        output\n",
      "0    14.781574\n",
      "1    23.981209\n",
      "2    18.782166\n",
      "3    20.336285\n",
      "4    43.631500\n",
      "..         ...\n",
      "97   45.323399\n",
      "98   16.589907\n",
      "99   19.968208\n",
      "100  10.348020\n",
      "101  25.757065\n",
      "\n",
      "[102 rows x 1 columns]\n"
     ]
    }
   ],
   "source": [
    "df=pd.DataFrame(result, columns=['output'])\n",
    "print(df)"
   ]
  },
  {
   "cell_type": "code",
   "execution_count": null,
   "metadata": {},
   "outputs": [],
   "source": []
  }
 ],
 "metadata": {
  "colab": {
   "provenance": []
  },
  "kernelspec": {
   "display_name": "Python 3 (ipykernel)",
   "language": "python",
   "name": "python3"
  },
  "language_info": {
   "codemirror_mode": {
    "name": "ipython",
    "version": 3
   },
   "file_extension": ".py",
   "mimetype": "text/x-python",
   "name": "python",
   "nbconvert_exporter": "python",
   "pygments_lexer": "ipython3",
   "version": "3.10.11"
  },
  "papermill": {
   "duration": 28.602522,
   "end_time": "2020-10-07T20:56:09.403032",
   "environment_variables": {},
   "exception": null,
   "input_path": "__notebook__.ipynb",
   "output_path": "__notebook__.ipynb",
   "parameters": {},
   "start_time": "2020-10-07T20:55:40.800510",
   "version": "2.1.0"
  }
 },
 "nbformat": 4,
 "nbformat_minor": 1
}
