{
 "cells": [
  {
   "cell_type": "code",
   "execution_count": 2,
   "metadata": {
    "id": "aYtdQsSI8Tm3"
   },
   "outputs": [
    {
     "name": "stdout",
     "output_type": "stream",
     "text": [
      "Downloading data from https://storage.googleapis.com/tensorflow/tf-keras-datasets/imdb.npz\n",
      "17464789/17464789 [==============================] - 3s 0us/step\n"
     ]
    }
   ],
   "source": [
    "from keras.datasets import imdb\n",
    "\n",
    "# Load the data, keeping only 10,000 of the most frequently occuring words\n",
    "(train_data, train_labels), (test_data, test_labels) = imdb.load_data(num_words = 10000)"
   ]
  },
  {
   "cell_type": "code",
   "execution_count": 3,
   "metadata": {
    "colab": {
     "base_uri": "https://localhost:8080/"
    },
    "id": "nCa_AHeg8sjt",
    "outputId": "669e4492-075a-4b23-ea83-9908ea877b16"
   },
   "outputs": [
    {
     "name": "stdout",
     "output_type": "stream",
     "text": [
      "<class 'list'>\n"
     ]
    },
    {
     "data": {
      "text/plain": [
       "9999"
      ]
     },
     "execution_count": 3,
     "metadata": {},
     "output_type": "execute_result"
    }
   ],
   "source": [
    "# Here is a list of maximum indexes in every review \n",
    "print(type([max(sequence) for sequence in train_data]))\n",
    "\n",
    "# Find the maximum of all max indexes\n",
    "max([max(sequence) for sequence in train_data])"
   ]
  },
  {
   "cell_type": "code",
   "execution_count": 4,
   "metadata": {
    "colab": {
     "base_uri": "https://localhost:8080/",
     "height": 244
    },
    "id": "Ov1ZA5oi8u8I",
    "outputId": "d1880398-8fff-4f8e-c8ea-582bc63b5c19"
   },
   "outputs": [
    {
     "name": "stdout",
     "output_type": "stream",
     "text": [
      "Downloading data from https://storage.googleapis.com/tensorflow/tf-keras-datasets/imdb_word_index.json\n",
      "1641221/1641221 [==============================] - 0s 0us/step\n"
     ]
    },
    {
     "data": {
      "text/plain": [
       "\"? this film was just brilliant casting location scenery story direction everyone's really suited the part they played and you could just imagine being there robert ? is an amazing actor and now the same being director ? father came from the same scottish island as myself so i loved the fact there was a real connection with this film the witty remarks throughout the film were great it was just brilliant so much that i bought the film as soon as it was released for ? and would recommend it to everyone to watch and the fly fishing was amazing really cried at the end it was so sad and you know what they say if you cry at a film it must have been good and this definitely was also ? to the two little boy's that played the ? of norman and paul they were just brilliant children are often left out of the ? list i think because the stars that play them all grown up are such a big profile for the whole film but these children are amazing and should be praised for what they have done don't you think the whole story was so lovely because it was true and was someone's life after all that was shared with us all\""
      ]
     },
     "execution_count": 4,
     "metadata": {},
     "output_type": "execute_result"
    }
   ],
   "source": [
    "# step 1: load the dictionary mappings from word to integer index\n",
    "word_index = imdb.get_word_index()\n",
    "\n",
    "# step 2: reverse word index to map integer indexes to their respective words\n",
    "reverse_word_index = dict([(value, key) for (key, value) in word_index.items()])\n",
    "\n",
    "# Step 3: decode the review, mapping integer indices to words\n",
    "#\n",
    "# indices are off by 3 because 0, 1, and 2 are reserverd indices for \"padding\", \"Start of sequence\" and \"unknown\"\n",
    "decoded_review = ' '.join([reverse_word_index.get(i-3, '?') for i in train_data[0]])\n",
    "\n",
    "decoded_review"
   ]
  },
  {
   "cell_type": "code",
   "execution_count": 5,
   "metadata": {
    "id": "qLNO5tNY82XT"
   },
   "outputs": [],
   "source": [
    "# Vectorize input data\n",
    "\n",
    "import numpy as np\n",
    "\n",
    "def vectorize_sequences(sequences, dimension=10000):\n",
    "    results = np.zeros((len(sequences), dimension))    # Creates an all zero matrix of shape (len(sequences),10K)\n",
    "    for i,sequence in enumerate(sequences):\n",
    "        results[i,sequence] = 1                        # Sets specific indices of results[i] to 1s\n",
    "    return results\n",
    "\n",
    "# Vectorize training Data\n",
    "X_train = vectorize_sequences(train_data)\n",
    "\n",
    "# Vectorize testing Data\n",
    "X_test = vectorize_sequences(test_data)"
   ]
  },
  {
   "cell_type": "code",
   "execution_count": 6,
   "metadata": {
    "colab": {
     "base_uri": "https://localhost:8080/"
    },
    "id": "BIj3w7Ib88HD",
    "outputId": "e34070e4-651a-41ab-870e-e41d4a15144b"
   },
   "outputs": [
    {
     "data": {
      "text/plain": [
       "array([0., 1., 1., ..., 0., 0., 0.])"
      ]
     },
     "execution_count": 6,
     "metadata": {},
     "output_type": "execute_result"
    }
   ],
   "source": [
    "X_train[0]"
   ]
  },
  {
   "cell_type": "code",
   "execution_count": 7,
   "metadata": {
    "colab": {
     "base_uri": "https://localhost:8080/"
    },
    "id": "eNRufcCS8-MF",
    "outputId": "514e661b-e4ab-44fa-d2fa-eff9a6440865"
   },
   "outputs": [
    {
     "data": {
      "text/plain": [
       "(25000, 10000)"
      ]
     },
     "execution_count": 7,
     "metadata": {},
     "output_type": "execute_result"
    }
   ],
   "source": [
    "X_train.shape"
   ]
  },
  {
   "cell_type": "code",
   "execution_count": 8,
   "metadata": {
    "id": "o28i70jY9Aaf"
   },
   "outputs": [],
   "source": [
    "# Vectorize labels\n",
    "y_train = np.asarray(train_labels).astype('float32')\n",
    "y_test  = np.asarray(test_labels).astype('float32')"
   ]
  },
  {
   "cell_type": "code",
   "execution_count": 9,
   "metadata": {
    "id": "DpPoK2vI9CGB"
   },
   "outputs": [],
   "source": [
    "from keras import models\n",
    "from keras import layers\n",
    "\n",
    "model = models.Sequential()\n",
    "model.add(layers.Dense(16, activation='relu', input_shape=(10000,)))\n",
    "model.add(layers.Dense(16, activation='relu'))\n",
    "model.add(layers.Dense(1, activation='sigmoid'))"
   ]
  },
  {
   "cell_type": "code",
   "execution_count": 10,
   "metadata": {
    "colab": {
     "base_uri": "https://localhost:8080/"
    },
    "id": "M43xNamX9Kr6",
    "outputId": "cc00df11-6510-4e42-995c-73132d5e72ac"
   },
   "outputs": [
    {
     "name": "stderr",
     "output_type": "stream",
     "text": [
      "C:\\Users\\Acer\\anaconda3\\lib\\site-packages\\keras\\optimizers\\legacy\\rmsprop.py:143: UserWarning: The `lr` argument is deprecated, use `learning_rate` instead.\n",
      "  super().__init__(name, **kwargs)\n"
     ]
    }
   ],
   "source": [
    "from keras import optimizers\n",
    "from keras import losses\n",
    "from keras import metrics\n",
    "\n",
    "model.compile(optimizer=optimizers.RMSprop(lr=0.001), loss = losses.binary_crossentropy, metrics = [metrics.binary_accuracy])"
   ]
  },
  {
   "cell_type": "code",
   "execution_count": 11,
   "metadata": {
    "id": "2OzY1Slw9QNT"
   },
   "outputs": [],
   "source": [
    "# Input for Validation\n",
    "X_val = X_train[:10000]\n",
    "partial_X_train = X_train[10000:]\n",
    "\n",
    "# Labels for validation\n",
    "y_val = y_train[:10000]\n",
    "partial_y_train = y_train[10000:]"
   ]
  },
  {
   "cell_type": "code",
   "execution_count": 12,
   "metadata": {
    "colab": {
     "base_uri": "https://localhost:8080/"
    },
    "id": "R3gVJuCq9WVO",
    "outputId": "0c1886d6-7127-4d31-81a4-3c142de33a47"
   },
   "outputs": [
    {
     "name": "stdout",
     "output_type": "stream",
     "text": [
      "Epoch 1/20\n",
      "30/30 [==============================] - 21s 568ms/step - loss: 0.5217 - binary_accuracy: 0.7833 - val_loss: 0.4029 - val_binary_accuracy: 0.8606\n",
      "Epoch 2/20\n",
      "30/30 [==============================] - 4s 123ms/step - loss: 0.3184 - binary_accuracy: 0.9006 - val_loss: 0.3199 - val_binary_accuracy: 0.8814\n",
      "Epoch 3/20\n",
      "30/30 [==============================] - 4s 146ms/step - loss: 0.2358 - binary_accuracy: 0.9227 - val_loss: 0.2814 - val_binary_accuracy: 0.8925\n",
      "Epoch 4/20\n",
      "30/30 [==============================] - 5s 165ms/step - loss: 0.1835 - binary_accuracy: 0.9413 - val_loss: 0.2718 - val_binary_accuracy: 0.8921\n",
      "Epoch 5/20\n",
      "30/30 [==============================] - 4s 121ms/step - loss: 0.1470 - binary_accuracy: 0.9522 - val_loss: 0.2864 - val_binary_accuracy: 0.8864\n",
      "Epoch 6/20\n",
      "30/30 [==============================] - 5s 165ms/step - loss: 0.1214 - binary_accuracy: 0.9622 - val_loss: 0.2994 - val_binary_accuracy: 0.8858\n",
      "Epoch 7/20\n",
      "30/30 [==============================] - 4s 130ms/step - loss: 0.1011 - binary_accuracy: 0.9703 - val_loss: 0.3063 - val_binary_accuracy: 0.8853\n",
      "Epoch 8/20\n",
      "30/30 [==============================] - 4s 121ms/step - loss: 0.0839 - binary_accuracy: 0.9766 - val_loss: 0.3238 - val_binary_accuracy: 0.8814\n",
      "Epoch 9/20\n",
      "30/30 [==============================] - 4s 119ms/step - loss: 0.0704 - binary_accuracy: 0.9814 - val_loss: 0.3526 - val_binary_accuracy: 0.8778\n",
      "Epoch 10/20\n",
      "30/30 [==============================] - 4s 147ms/step - loss: 0.0577 - binary_accuracy: 0.9852 - val_loss: 0.3678 - val_binary_accuracy: 0.8785\n",
      "Epoch 11/20\n",
      "30/30 [==============================] - 4s 120ms/step - loss: 0.0465 - binary_accuracy: 0.9886 - val_loss: 0.3951 - val_binary_accuracy: 0.8766\n",
      "Epoch 12/20\n",
      "30/30 [==============================] - 4s 151ms/step - loss: 0.0400 - binary_accuracy: 0.9897 - val_loss: 0.4213 - val_binary_accuracy: 0.8757\n",
      "Epoch 13/20\n",
      "30/30 [==============================] - 4s 140ms/step - loss: 0.0289 - binary_accuracy: 0.9947 - val_loss: 0.4515 - val_binary_accuracy: 0.8728\n",
      "Epoch 14/20\n",
      "30/30 [==============================] - 8s 262ms/step - loss: 0.0242 - binary_accuracy: 0.9960 - val_loss: 0.4825 - val_binary_accuracy: 0.8717\n",
      "Epoch 15/20\n",
      "30/30 [==============================] - 4s 145ms/step - loss: 0.0204 - binary_accuracy: 0.9964 - val_loss: 0.5182 - val_binary_accuracy: 0.8687\n",
      "Epoch 16/20\n",
      "30/30 [==============================] - 6s 189ms/step - loss: 0.0158 - binary_accuracy: 0.9983 - val_loss: 0.5449 - val_binary_accuracy: 0.8704\n",
      "Epoch 17/20\n",
      "30/30 [==============================] - 5s 159ms/step - loss: 0.0119 - binary_accuracy: 0.9989 - val_loss: 0.5766 - val_binary_accuracy: 0.8688\n",
      "Epoch 18/20\n",
      "30/30 [==============================] - 7s 243ms/step - loss: 0.0112 - binary_accuracy: 0.9983 - val_loss: 0.6123 - val_binary_accuracy: 0.8671\n",
      "Epoch 19/20\n",
      "30/30 [==============================] - 4s 149ms/step - loss: 0.0056 - binary_accuracy: 0.9998 - val_loss: 0.6466 - val_binary_accuracy: 0.8662\n",
      "Epoch 20/20\n",
      "30/30 [==============================] - 5s 151ms/step - loss: 0.0063 - binary_accuracy: 0.9995 - val_loss: 0.6779 - val_binary_accuracy: 0.8664\n"
     ]
    }
   ],
   "source": [
    "history = model.fit(partial_X_train, partial_y_train, epochs=20, batch_size=512, validation_data=(X_val, y_val))"
   ]
  },
  {
   "cell_type": "code",
   "execution_count": 13,
   "metadata": {
    "colab": {
     "base_uri": "https://localhost:8080/"
    },
    "id": "rsC6XiC39asv",
    "outputId": "1a291dfa-9c18-4456-8a81-194c1f9488f3"
   },
   "outputs": [
    {
     "data": {
      "text/plain": [
       "dict_keys(['loss', 'binary_accuracy', 'val_loss', 'val_binary_accuracy'])"
      ]
     },
     "execution_count": 13,
     "metadata": {},
     "output_type": "execute_result"
    }
   ],
   "source": [
    "history_dict = history.history\n",
    "history_dict.keys()"
   ]
  },
  {
   "cell_type": "code",
   "execution_count": 14,
   "metadata": {
    "id": "d5KOKXZh9fIE"
   },
   "outputs": [],
   "source": [
    "import matplotlib.pyplot as plt\n",
    "%matplotlib inline"
   ]
  },
  {
   "cell_type": "code",
   "execution_count": 15,
   "metadata": {
    "colab": {
     "base_uri": "https://localhost:8080/",
     "height": 295
    },
    "id": "XVy1lIeQ9iH9",
    "outputId": "aa103961-96ec-4b83-b2bd-0652cc17e984"
   },
   "outputs": [
    {
     "data": {
      "image/png": "[encoded data removed]",
      "text/plain": [
       "<Figure size 432x288 with 1 Axes>"
      ]
     },
     "metadata": {
      "needs_background": "light"
     },
     "output_type": "display_data"
    }
   ],
   "source": [
    "# Plotting losses\n",
    "loss_values = history_dict['loss']\n",
    "val_loss_values = history_dict['val_loss']\n",
    "\n",
    "epochs = range(1, len(loss_values) + 1)\n",
    "\n",
    "plt.plot(epochs, loss_values, 'bo', label=\"Training Loss\")\n",
    "plt.plot(epochs, val_loss_values, 'b', label=\"Validation Loss\")\n",
    "\n",
    "plt.title('Training and Validation Loss')\n",
    "plt.xlabel('Epochs')\n",
    "plt.ylabel('Loss Value')\n",
    "plt.legend()\n",
    "\n",
    "plt.show()"
   ]
  },
  {
   "cell_type": "code",
   "execution_count": 16,
   "metadata": {
    "colab": {
     "base_uri": "https://localhost:8080/",
     "height": 295
    },
    "id": "QqRmsgBa9kS6",
    "outputId": "2fb85905-4a88-44b6-d22d-3f0ec33cbb5d"
   },
   "outputs": [
    {
     "data": {
      "image/png": "[encoded data removed]",
      "text/plain": [
       "<Figure size 432x288 with 1 Axes>"
      ]
     },
     "metadata": {
      "needs_background": "light"
     },
     "output_type": "display_data"
    }
   ],
   "source": [
    "# Training and Validation Accuracy\n",
    "\n",
    "acc_values = history_dict['binary_accuracy']\n",
    "val_acc_values = history_dict['val_binary_accuracy']\n",
    "\n",
    "epochs = range(1, len(loss_values) + 1)\n",
    "\n",
    "plt.plot(epochs, acc_values, 'ro', label=\"Training Accuracy\")\n",
    "plt.plot(epochs, val_acc_values, 'r', label=\"Validation Accuracy\")\n",
    "\n",
    "plt.title('Training and Validation Accuraccy')\n",
    "plt.xlabel('Epochs')\n",
    "plt.ylabel('Accuracy')\n",
    "plt.legend()\n",
    "\n",
    "plt.show()"
   ]
  },
  {
   "cell_type": "code",
   "execution_count": 17,
   "metadata": {
    "colab": {
     "base_uri": "https://localhost:8080/"
    },
    "id": "KfOhCW_P9swd",
    "outputId": "48638da3-2be0-4553-bbad-c5652fcfb435"
   },
   "outputs": [
    {
     "name": "stdout",
     "output_type": "stream",
     "text": [
      "Epoch 1/3\n",
      "30/30 [==============================] - 12s 371ms/step - loss: 0.0064 - binary_accuracy: 0.9992 - val_loss: 0.7138 - val_binary_accuracy: 0.8652\n",
      "Epoch 2/3\n",
      "30/30 [==============================] - 4s 124ms/step - loss: 0.0025 - binary_accuracy: 0.9999 - val_loss: 0.7415 - val_binary_accuracy: 0.8648\n",
      "Epoch 3/3\n",
      "30/30 [==============================] - 5s 175ms/step - loss: 0.0063 - binary_accuracy: 0.9985 - val_loss: 0.7877 - val_binary_accuracy: 0.8643\n"
     ]
    },
    {
     "data": {
      "text/plain": [
       "<keras.callbacks.History at 0x19f56ce2310>"
      ]
     },
     "execution_count": 17,
     "metadata": {},
     "output_type": "execute_result"
    }
   ],
   "source": [
    "model.fit(partial_X_train, partial_y_train, epochs=3, batch_size=512, validation_data=(X_val, y_val))"
   ]
  },
  {
   "cell_type": "code",
   "execution_count": 18,
   "metadata": {
    "colab": {
     "base_uri": "https://localhost:8080/"
    },
    "id": "4Lpax53v9tNV",
    "outputId": "20091746-877e-4a56-cdb0-10027ab26448"
   },
   "outputs": [
    {
     "name": "stdout",
     "output_type": "stream",
     "text": [
      "782/782 [==============================] - 18s 14ms/step\n"
     ]
    }
   ],
   "source": [
    "# Making Predictions for testing data\n",
    "np.set_printoptions(suppress=True)\n",
    "result = model.predict(X_test)"
   ]
  },
  {
   "cell_type": "code",
   "execution_count": 19,
   "metadata": {
    "colab": {
     "base_uri": "https://localhost:8080/"
    },
    "id": "tjEtO0409wRK",
    "outputId": "88431a10-c307-49dc-d799-cb47e10e13cc"
   },
   "outputs": [
    {
     "data": {
      "text/plain": [
       "array([[0.00302891],\n",
       "       [1.        ],\n",
       "       [0.9823159 ],\n",
       "       ...,\n",
       "       [0.0009897 ],\n",
       "       [0.01177553],\n",
       "       [0.9837371 ]], dtype=float32)"
      ]
     },
     "execution_count": 19,
     "metadata": {},
     "output_type": "execute_result"
    }
   ],
   "source": [
    "result"
   ]
  },
  {
   "cell_type": "code",
   "execution_count": 20,
   "metadata": {
    "id": "f2a0tbJo9yUR"
   },
   "outputs": [],
   "source": [
    "y_pred = np.zeros(len(result))\n",
    "for i, score in enumerate(result):\n",
    "    y_pred[i] = 1 if score > 0.5 else 0"
   ]
  },
  {
   "cell_type": "code",
   "execution_count": 21,
   "metadata": {
    "id": "5L3bl_HL91C_"
   },
   "outputs": [],
   "source": [
    "from sklearn.metrics import mean_absolute_error\n",
    "mae = mean_absolute_error(y_pred, y_test)"
   ]
  },
  {
   "cell_type": "code",
   "execution_count": 22,
   "metadata": {
    "colab": {
     "base_uri": "https://localhost:8080/"
    },
    "id": "F1RgCNky95JO",
    "outputId": "c8877a02-7715-4935-a3b6-44be005c5c2f"
   },
   "outputs": [
    {
     "data": {
      "text/plain": [
       "0.15144"
      ]
     },
     "execution_count": 22,
     "metadata": {},
     "output_type": "execute_result"
    }
   ],
   "source": [
    "# error\n",
    "mae"
   ]
  },
  {
   "cell_type": "code",
   "execution_count": 23,
   "metadata": {},
   "outputs": [
    {
     "name": "stdout",
     "output_type": "stream",
     "text": [
      "         output\n",
      "0      0.003029\n",
      "1      1.000000\n",
      "2      0.982316\n",
      "3      0.984363\n",
      "4      0.999079\n",
      "...         ...\n",
      "24995  1.000000\n",
      "24996  0.518096\n",
      "24997  0.000990\n",
      "24998  0.011776\n",
      "24999  0.983737\n",
      "\n",
      "[25000 rows x 1 columns]\n"
     ]
    }
   ],
   "source": [
    "import pandas as pd\n",
    "df=pd.DataFrame(result, columns=['output'])\n",
    "print(df)"
   ]
  },
  {
   "cell_type": "code",
   "execution_count": null,
   "metadata": {},
   "outputs": [],
   "source": []
  }
 ],
 "metadata": {
  "colab": {
   "provenance": []
  },
  "kernelspec": {
   "display_name": "Python 3",
   "language": "python",
   "name": "python3"
  },
  "language_info": {
   "codemirror_mode": {
    "name": "ipython",
    "version": 3
   },
   "file_extension": ".py",
   "mimetype": "text/x-python",
   "name": "python",
   "nbconvert_exporter": "python",
   "pygments_lexer": "ipython3",
   "version": "3.8.8"
  }
 },
 "nbformat": 4,
 "nbformat_minor": 1
}
